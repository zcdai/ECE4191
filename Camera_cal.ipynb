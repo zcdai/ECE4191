{
 "cells": [
  {
   "cell_type": "code",
   "execution_count": 2,
   "metadata": {},
   "outputs": [
    {
     "name": "stdout",
     "output_type": "stream",
     "text": [
      "[[672.05931043   0.         375.71086048]\n",
      " [  0.         672.03404801 227.86805328]\n",
      " [  0.           0.           1.        ]]\n"
     ]
    }
   ],
   "source": [
    "import cv2\n",
    "import numpy as np\n",
    "import os\n",
    "\n",
    "# Load the calibration data\n",
    "calibration_data = np.load('camera_calibration.npz')\n",
    "\n",
    "# Extract the camera matrix and distortion coefficients\n",
    "camera_matrix = calibration_data['camera_matrix']\n",
    "dist_coeffs = calibration_data['dist_coeffs']\n",
    "\n",
    "# Extract rotation and translation vectors\n",
    "rvecs = calibration_data['rvecs']\n",
    "tvecs = calibration_data['tvecs']\n",
    "\n",
    "print(camera_matrix)"
   ]
  }
 ],
 "metadata": {
  "kernelspec": {
   "display_name": "WS1",
   "language": "python",
   "name": "python3"
  },
  "language_info": {
   "codemirror_mode": {
    "name": "ipython",
    "version": 3
   },
   "file_extension": ".py",
   "mimetype": "text/x-python",
   "name": "python",
   "nbconvert_exporter": "python",
   "pygments_lexer": "ipython3",
   "version": "3.11.4"
  }
 },
 "nbformat": 4,
 "nbformat_minor": 2
}
