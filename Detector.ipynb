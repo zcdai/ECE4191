{
 "cells": [
  {
   "cell_type": "code",
   "execution_count": 4,
   "metadata": {},
   "outputs": [
    {
     "name": "stderr",
     "output_type": "stream",
     "text": [
      "Model summary (fused): 168 layers, 11125971 parameters, 0 gradients\n",
      "\n",
      "0: 320x256 1 Balls, 160.7ms\n",
      "Speed: 3.0ms preprocess, 160.7ms inference, 1.0ms postprocess per image at shape (1, 3, 320, 256)\n"
     ]
    }
   ],
   "source": [
    "import cv2\n",
    "import torch\n",
    "from ultralytics import YOLO\n",
    "\n",
    "# Load the model with custom weights\n",
    "model = YOLO('YOLO/Model/best (1).pt') \n",
    "model.fuse()\n",
    "# Load an image using OpenCV\n",
    "image = cv2.imread('YOLO/Test_Image/high_light4.jpg')\n",
    "\n",
    "# Perform object detection\n",
    "results = model.predict(image)"
   ]
  },
  {
   "cell_type": "code",
   "execution_count": 5,
   "metadata": {},
   "outputs": [],
   "source": [
    "# Draw bounding boxes on the image\n",
    "for result in results:\n",
    "    for box in result.boxes:\n",
    "        # Get coordinates and class of detected object\n",
    "        x1, y1, x2, y2 = map(int, box.xyxy[0].tolist())\n",
    "        conf = box.conf[0].item()\n",
    "        label = int(box.cls[0])\n",
    "        \n",
    "        # Draw the bounding box and label on the image\n",
    "        cv2.rectangle(image, (x1, y1), (x2, y2), (0, 255, 0), 2)\n",
    "        cv2.putText(image, f'Class: {label} Conf: {conf:.2f}', (x1, y1 - 10), cv2.FONT_HERSHEY_SIMPLEX, 0.5, (0, 255, 0), 2)\n",
    "\n",
    "# Display the image with bounding boxes\n",
    "cv2.imshow('Image', image)\n",
    "cv2.waitKey(0)\n",
    "cv2.destroyAllWindows()"
   ]
  }
 ],
 "metadata": {
  "kernelspec": {
   "display_name": "WS1",
   "language": "python",
   "name": "python3"
  },
  "language_info": {
   "codemirror_mode": {
    "name": "ipython",
    "version": 3
   },
   "file_extension": ".py",
   "mimetype": "text/x-python",
   "name": "python",
   "nbconvert_exporter": "python",
   "pygments_lexer": "ipython3",
   "version": "3.11.4"
  }
 },
 "nbformat": 4,
 "nbformat_minor": 2
}
